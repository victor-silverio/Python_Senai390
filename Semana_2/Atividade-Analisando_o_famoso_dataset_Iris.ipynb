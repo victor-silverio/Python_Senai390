{
 "cells": [
  {
   "cell_type": "markdown",
   "id": "e8d5bda0",
   "metadata": {},
   "source": [
    "# Em notebook:\n",
    "\n",
    "Só estou adicionando aqui para que fique mais fácil visualizar o output."
   ]
  }
 ],
 "metadata": {
  "language_info": {
   "name": "python"
  }
 },
 "nbformat": 4,
 "nbformat_minor": 5
}
