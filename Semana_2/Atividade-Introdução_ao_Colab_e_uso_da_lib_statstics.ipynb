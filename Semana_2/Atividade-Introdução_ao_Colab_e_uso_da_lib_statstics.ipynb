{
  "cells": [
    {
      "cell_type": "markdown",
      "metadata": {
        "id": "duIxMjQKBXL1"
      },
      "source": [
        "# Atividades de Fixação – Google Colab, Python e biblioteca `statistics`\n",
        "\n",
        "---\n",
        "\n",
        "## Atividade 1 – Criando e analisando dados fictícios\n",
        "\n",
        "**Dados:**  \n",
        "```python\n",
        "salarios = [2500, 2700, 3200, 3100, 2800, 3000, 2700, 3100, 2900]\n",
        "```\n",
        "\n",
        "### Tarefas:\n",
        "- Calcule média, mediana e moda dos salários.\n",
        "\n",
        "- Calcule amplitude, variância e desvio padrão.\n",
        "\n",
        "- Dê um breve comentário sobre o que esses valores revelam sobre a distribuição dos salários.\n"
      ]
    },
    {
      "cell_type": "code",
      "execution_count": 7,
      "metadata": {},
      "outputs": [
        {
          "name": "stdout",
          "output_type": "stream",
          "text": [
            "\n",
            "--------------------------------------\n",
            "Media Salarios:  2888.8888888888887\n",
            "Mediana Salarios:  2900\n",
            "Moda Salarios:  2700\n",
            "--------------------------------------\n",
            "Amplitude Salarios:  700\n",
            "Variancia Amostral Salarios:  53611.11111111111\n",
            "Variancia Populacional Salarios:  47654.32098765432\n",
            "desvio padrão salarios Amostral:  231.54073315749673\n",
            "desvio padrão salarios Populacional:  218.29869671542778\n",
            "--------------------------------------\n"
          ]
        }
      ],
      "source": [
        "'''\n",
        "Nome: Victor Augusto\n",
        "\n",
        "'''\n",
        "\n",
        "import statistics as sta\n",
        "\n",
        "salarios = [2500, 2700, 3200, 3100, 2800, 3000, 2700, 3100, 2900]\n",
        "\n",
        "media_salarios = sta.mean(salarios)\n",
        "mediana_salarios = sta.median(salarios)\n",
        "moda_salarios = sta.mode(salarios)\n",
        "amplitude_salarios = max(salarios) - min(salarios)\n",
        "variancia_salario_amostral = sta.variance(salarios)\n",
        "variancia_salarios_populacional = sta.pvariance(salarios)\n",
        "desvio_padrao_salarios_amostral = sta.stdev(salarios)\n",
        "desvio_padrao_salarios_populacional = sta.pstdev(salarios)\n",
        "\n",
        "print(\"\\n--------------------------------------\")\n",
        "print(\"Media Salarios: \", media_salarios)\n",
        "print(\"Mediana Salarios: \", mediana_salarios)\n",
        "print(\"Moda Salarios: \", moda_salarios)\n",
        "print(\"--------------------------------------\")\n",
        "print(\"Amplitude Salarios: \", amplitude_salarios)\n",
        "print(\"Variancia Amostral Salarios: \", variancia_salario_amostral)\n",
        "print(\"Variancia Populacional Salarios: \", variancia_salarios_populacional)\n",
        "print(\"desvio padrão salarios Amostral: \", desvio_padrao_salarios_amostral)\n",
        "print(\"desvio padrão salarios Populacional: \", desvio_padrao_salarios_populacional)\n",
        "print(\"--------------------------------------\")\n",
        "\n"
      ]
    },
    {
      "cell_type": "markdown",
      "metadata": {},
      "source": [
        "# Comentários:\n",
        "\n",
        "A distribuição salarial é proxima, variando somente R$700. Como não há valores extremos, a mediana e a média foram bem proximas. "
      ]
    },
    {
      "cell_type": "markdown",
      "metadata": {
        "id": "fPSOldK0B8Af"
      },
      "source": [
        "## Atividade 2 – Manipulando listas e dicionários\n",
        "\n",
        "**Dados:**  \n",
        "```python\n",
        "idades = [19, 21, 22, 20, 22, 23, 21, 19, 20]\n",
        "```\n",
        "\n",
        "### Tarefas:\n",
        "- Calcule média, mediana, moda, amplitude, variância e desvio padrão.\n",
        "\n",
        "- Crie um dicionário para armazenar nome, idade e nota de 3 alunos.\n",
        "\n",
        "- Imprima o nome do aluno com a maior nota."
      ]
    },
    {
      "cell_type": "markdown",
      "metadata": {},
      "source": [
        "# Notas e Nomes? Não há informações sobre nota ou sobre nomes no bloco de texto, logo irei inventar algumas só para fazer"
      ]
    },
    {
      "cell_type": "code",
      "execution_count": null,
      "metadata": {},
      "outputs": [
        {
          "name": "stdout",
          "output_type": "stream",
          "text": [
            "\n",
            "--------------------------------------\n",
            "Media Idades:  20.77777777777778\n",
            "Mediana Idades:  21\n",
            "Moda Idades:  19\n",
            "--------------------------------------\n",
            "Amplitude Idades:  4\n",
            "Variancia Amostral Idades:  1.9444444444444444\n",
            "Variancia Populacional Idades:  1.728395061728395\n",
            "desvio padrão Idades Amostral:  1.3944333775567925\n",
            "desvio padrão Idades Populacional:  1.314684396244359\n",
            "--------------------------------------\n",
            "\n",
            "A maior nota é:  9 , e ela pertence ao aluno(a):  joão\n"
          ]
        }
      ],
      "source": [
        "'''\n",
        "Nome: Victor Augusto\n",
        "'''\n",
        "\n",
        "import statistics as sta\n",
        "\n",
        "idades = [19, 21, 22, 20, 22, 23, 21, 19, 20]\n",
        "nomes = ['joão', 'maria', 'pedro', 'arquimedes', 'naruto', 'mariana', 'Stella', 'Newton', 'Flavia']\n",
        "notas = [9, 7, 8, 5, 7, 2, 6, 4, 6]\n",
        "\n",
        "media_idades = sta.mean(idades)\n",
        "mediana_idades = sta.median(idades)\n",
        "moda_idades = sta.mode(idades)\n",
        "amplitude_idades = max(idades) - min(idades)\n",
        "variancia_idades_amostral = sta.variance(idades)\n",
        "variancia_idades_populacional = sta.pvariance(idades)\n",
        "desvio_padrao_idades_amostral = sta.stdev(idades)\n",
        "desvio_padrao_idades_populacional = sta.pstdev(idades)\n",
        "\n",
        "print(\"\\n--------------------------------------\")\n",
        "print(\"Media Idades: \", media_idades)\n",
        "print(\"Mediana Idades: \", mediana_idades)\n",
        "print(\"Moda Idades: \", moda_idades)\n",
        "print(\"--------------------------------------\")\n",
        "print(\"Amplitude Idades: \", amplitude_idades)\n",
        "print(\"Variancia Amostral Idades: \", variancia_idades_amostral)\n",
        "print(\"Variancia Populacional Idades: \", variancia_idades_populacional)\n",
        "print(\"desvio padrão Idades Amostral: \", desvio_padrao_idades_amostral)\n",
        "print(\"desvio padrão Idades Populacional: \", desvio_padrao_idades_populacional)\n",
        "print(\"--------------------------------------\")\n",
        "\n",
        "# ----------------------------------------------------------------------------------\n",
        "# Você só pediu 3, mas daria pra escalar com os 9.\n",
        "Alunos = {\n",
        "    \"nomes\": [nomes[0], nomes[1], nomes[2]],\n",
        "    \"idades\": [idades[0], idades[1], idades[2]],\n",
        "    \"notas\": [notas[0], notas[1], notas[2]]\n",
        "}\n",
        "\n",
        "maior_nota = max(Alunos[\"notas\"])\n",
        "posicao_maior_nota = Alunos[\"notas\"].index(maior_nota)\n",
        "nome_maior_nota = Alunos[\"nomes\"][posicao_maior_nota]\n",
        "\n",
        "print(\"\\nA maior nota é: \", maior_nota, \", e ela pertence ao aluno(a): \", nome_maior_nota)\n"
      ]
    },
    {
      "cell_type": "markdown",
      "metadata": {
        "id": "x9WOpEoYCS9q"
      },
      "source": [
        "## Atividade 3 – Estatística com dados de temperaturas\n",
        "\n",
        "**Dados:**  \n",
        "```python\n",
        "temperaturas = [22.5, 23.0, 21.0, 22.0, 23.5, 24.0, 22.5, 23.0, 21.5]\n",
        "```\n",
        "\n",
        "### Tarefas:\n",
        "- Calcule a média, mediana, moda, amplitude, variância e desvio padrão das temperaturas.\n",
        "\n",
        "- Explique o que essas medidas indicam sobre as temperaturas registradas."
      ]
    },
    {
      "cell_type": "code",
      "execution_count": 11,
      "metadata": {},
      "outputs": [
        {
          "name": "stdout",
          "output_type": "stream",
          "text": [
            "\n",
            "--------------------------------------\n",
            "Media Temperaturas:  22.555555555555557\n",
            "Mediana Temperaturas:  22.5\n",
            "Moda Temperaturas:  22.5\n",
            "--------------------------------------\n",
            "Amplitude Temperaturas:  3.0\n",
            "Variancia Amostral Temperaturas:  0.9027777777777778\n",
            "Variancia Populacional Temperaturas:  0.8024691358024691\n",
            "desvio padrão Temperaturas Amostral:  0.9501461875826149\n",
            "desvio padrão Temperaturas Populacional:  0.8958064164776166\n",
            "--------------------------------------\n"
          ]
        }
      ],
      "source": [
        "'''\n",
        "Nome: Victor Augusto\n",
        "\n",
        "'''\n",
        "\n",
        "import statistics as sta\n",
        "\n",
        "temperaturas = [22.5, 23.0, 21.0, 22.0, 23.5, 24.0, 22.5, 23.0, 21.5]\n",
        "\n",
        "media_temperaturas = sta.mean(temperaturas)\n",
        "mediana_temperaturas = sta.median(temperaturas)\n",
        "moda_temperaturas = sta.mode(temperaturas)\n",
        "amplitude_temperaturas = max(temperaturas) - min(temperaturas)\n",
        "variancia_temperaturas_amostral = sta.variance(temperaturas)\n",
        "variancia_temperaturas_populacional = sta.pvariance(temperaturas)\n",
        "desvio_padrao_temperaturas_amostral = sta.stdev(temperaturas)\n",
        "desvio_padrao_temperaturas_populacional = sta.pstdev(temperaturas)\n",
        "\n",
        "print(\"\\n--------------------------------------\")\n",
        "print(\"Media Temperaturas: \", media_temperaturas)\n",
        "print(\"Mediana Temperaturas: \", mediana_temperaturas)\n",
        "print(\"Moda Temperaturas: \", moda_temperaturas)\n",
        "print(\"--------------------------------------\")\n",
        "print(\"Amplitude Temperaturas: \", amplitude_temperaturas)\n",
        "print(\"Variancia Amostral Temperaturas: \", variancia_temperaturas_amostral)\n",
        "print(\"Variancia Populacional Temperaturas: \", variancia_temperaturas_populacional)\n",
        "print(\"desvio padrão Temperaturas Amostral: \", desvio_padrao_temperaturas_amostral)\n",
        "print(\"desvio padrão Temperaturas Populacional: \", desvio_padrao_temperaturas_populacional)\n",
        "print(\"--------------------------------------\")\n"
      ]
    },
    {
      "cell_type": "markdown",
      "metadata": {},
      "source": [
        "## Comentários:\n",
        "\n",
        "A temperatura se mostrou estavél, com somente uma variancia de 3.0 graus, os valores são uniformes, logo a mediana e a média ficaram iguais (A depender do arredondamento de casas). Em resumo, esta região onde as temperaturas foram medidas, possui um clima estável, e relativamente frio. (21° seria um dia normal em muitos paises, no brasil o \"dia normal\" é por volta dos 25°C).\n",
        "\n",
        "e é isso mari, entregue a tarefa!"
      ]
    }
  ],
  "metadata": {
    "colab": {
      "provenance": []
    },
    "kernelspec": {
      "display_name": "Python 3",
      "name": "python3"
    },
    "language_info": {
      "codemirror_mode": {
        "name": "ipython",
        "version": 3
      },
      "file_extension": ".py",
      "mimetype": "text/x-python",
      "name": "python",
      "nbconvert_exporter": "python",
      "pygments_lexer": "ipython3",
      "version": "3.13.3"
    }
  },
  "nbformat": 4,
  "nbformat_minor": 0
}
