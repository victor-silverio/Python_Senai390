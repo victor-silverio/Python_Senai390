{
 "cells": [
  {
   "cell_type": "markdown",
   "id": "63164cc2",
   "metadata": {},
   "source": [
    "# Atividade - Estatística Descritiva e Medidas de Dispersão (Google Colab)\n",
    "\n",
    "Nome: Victor Augusto de Aquino Silvério"
   ]
  },
  {
   "cell_type": "markdown",
   "id": "d4a53af8",
   "metadata": {},
   "source": [
    "---\n",
    "\n",
    "## Atividade 1 – Explorando um conjunto de dados simples\n",
    "\n",
    "### Dados:\n",
    "\n",
    "```python\n",
    "idades = [22, 25, 28, 24, 30, 27, 26, 25, 29, 31]\n",
    "```\n",
    "\n",
    "### Questões:\n",
    "1.  Calcule média, mediana e moda.\n",
    "2.  Calcule amplitude, variância e desvio padrão.\n",
    "3.  Explique, em poucas linhas, o que esses números indicam sobre as idades do grupo.\n"
   ]
  },
  {
   "cell_type": "code",
   "execution_count": 6,
   "id": "56283a15",
   "metadata": {},
   "outputs": [
    {
     "name": "stdout",
     "output_type": "stream",
     "text": [
      "Os dados originais são:\n",
      "[22, 25, 28, 24, 30, 27, 26, 25, 29, 31] \n",
      "\n",
      "A média das idades é:  26.7\n",
      "A mediana das idades é:  26.5\n",
      "A moda das idades é:  25 \n",
      "\n",
      "A amplitude das idades é:  9\n",
      "A variancia Amostral das idades é:  8.011111111111111\n",
      "A variancia populacional das idades é:  7.21\n",
      "O desvio padrão amostral das idades é:  2.8303906287138374\n",
      "O desvio padrão Populacional das idades é:  2.6851443164195103\n"
     ]
    }
   ],
   "source": [
    "'''\n",
    "Nome: Victor Augusto\n",
    "'''\n",
    "\n",
    "import statistics as sta\n",
    "\n",
    "idades = [22, 25, 28, 24, 30, 27, 26, 25, 29, 31]\n",
    "\n",
    "idades_media = sta.mean(idades)\n",
    "idades_mediana = sta.median(idades)\n",
    "idades_moda = sta.mode(idades)\n",
    "\n",
    "idades_amplitude = max(idades) - min(idades)\n",
    "\n",
    "idades_variancia_amostral = sta.variance(idades)\n",
    "idades_variancia_populacional = sta.pvariance(idades)\n",
    "\n",
    "idades_desvio_padrao_amostral = sta.stdev(idades)\n",
    "idades_desvio_padrao_populacional = sta.pstdev(idades)\n",
    "\n",
    "# ---------------------------------------------------\n",
    "\n",
    "print(\"Os dados originais são:\")\n",
    "print(idades, \"\\n\")\n",
    "\n",
    "print(\"A média das idades é: \", idades_media)\n",
    "print(\"A mediana das idades é: \", idades_mediana)\n",
    "print(\"A moda das idades é: \", idades_moda, \"\\n\")\n",
    "\n",
    "print(\"A amplitude das idades é: \", idades_amplitude)\n",
    "print(\"A variancia Amostral das idades é: \", idades_variancia_amostral)\n",
    "print(\"A variancia populacional das idades é: \", idades_variancia_populacional)\n",
    "\n",
    "print(\"O desvio padrão amostral das idades é: \", idades_desvio_padrao_amostral)\n",
    "print(\"O desvio padrão Populacional das idades é: \", idades_desvio_padrao_populacional)\n",
    "\n",
    "\n"
   ]
  },
  {
   "cell_type": "markdown",
   "id": "40c93b37",
   "metadata": {},
   "source": [
    "---\n",
    "\n",
    "## Atividade 2 – Análise de notas de um grupo de alunos\n",
    "\n",
    "### Dados:\n",
    "\n",
    "```python\n",
    "notas = [6.0, 7.5, 8.0, 9.0, 6.5, 7.0, 8.5, 6.0, 7.5, 7.0]\n",
    "```\n",
    "\n",
    "### Questões:\n",
    "1.  Calcule as medidas de tendência central e de dispersão.\n",
    "2.  Faça um histograma das notas para visualizar a distribuição.\n",
    "3.  Qual é a nota mais frequente? O que isso indica?\n",
    "4.  Comente se as notas estão muito concentradas ou espalhadas.\n"
   ]
  },
  {
   "cell_type": "markdown",
   "id": "1a82aa03",
   "metadata": {},
   "source": [
    "---\n",
    "\n",
    "## Atividade 3 – Tempos de atendimento em minutos\n",
    "\n",
    "### Dados:\n",
    "\n",
    "```python\n",
    "tempos = [4.0, 5.5, 6.0, 7.0, 5.0, 4.5, 6.5, 5.0, 4.0, 7.5]\n",
    "```\n",
    "\n",
    "### Questões:\n",
    "1.  Calcule as medidas estatísticas básicas (média, mediana, moda, amplitude, variância, desvio padrão).\n",
    "2.  Crie um boxplot para visualizar a dispersão e possíveis outliers.\n",
    "3.  Qual a diferença entre média e mediana?\n",
    "4.  O que indica se a média é maior que a mediana?\n",
    "\n"
   ]
  },
  {
   "cell_type": "markdown",
   "id": "156815ae",
   "metadata": {},
   "source": [
    "---\n",
    "\n",
    "## Atividade 4 – Comparação entre dois grupos\n",
    "\n",
    "### Dados:\n",
    "\n",
    "```python\n",
    "grupo1 = [50, 52, 53, 55, 50, 51, 54, 52]\n",
    "grupo2 = [48, 49, 47, 46, 50, 48, 49, 47]\n",
    "\n",
    "```\n",
    "\n",
    "### Questões:\n",
    "1.  Calcule média e desvio padrão para cada grupo.\n",
    "2.  Faça um gráfico de barras comparando as médias dos dois grupos.\n",
    "3.  Qual grupo tem maior variação nos dados?\n",
    "4.  Comente sobre a diferença entre os dois grupos baseada nos resultados.\n",
    "\n"
   ]
  },
  {
   "cell_type": "markdown",
   "id": "197fe91f",
   "metadata": {},
   "source": [
    "---\n",
    "\n",
    "## Atividade 5 – Relação entre duas variáveis\n",
    "\n",
    "### Dados:\n",
    "\n",
    "```python\n",
    "idade = [20, 22, 25, 23, 24, 26, 27, 30, 28, 29]\n",
    "salario = [2000, 2200, 2500, 2300, 2400, 2600, 2700, 3000, 2800, 2900]\n",
    "```\n",
    "\n",
    "### Questões:\n",
    "1.  Calcule média, mediana e desvio padrão para idade e salário.\n",
    "2.  Plote um gráfico de dispersão (scatter plot) para verificar a relação entre idade e salário.\n",
    "3.  Comente se parece existir uma relação entre as variáveis.\n",
    "4.  Que outras análises você faria para aprofundar esse estudo?"
   ]
  }
 ],
 "metadata": {
  "kernelspec": {
   "display_name": "Python 3",
   "language": "python",
   "name": "python3"
  },
  "language_info": {
   "codemirror_mode": {
    "name": "ipython",
    "version": 3
   },
   "file_extension": ".py",
   "mimetype": "text/x-python",
   "name": "python",
   "nbconvert_exporter": "python",
   "pygments_lexer": "ipython3",
   "version": "3.13.3"
  }
 },
 "nbformat": 4,
 "nbformat_minor": 5
}
