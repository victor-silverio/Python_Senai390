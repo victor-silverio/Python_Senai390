{
 "cells": [
  {
   "cell_type": "markdown",
   "id": "63164cc2",
   "metadata": {},
   "source": [
    "# Atividade - Estatística Descritiva e Medidas de Dispersão (Google Colab)\n",
    "\n",
    "Nome: Victor Augusto de Aquino Silvério"
   ]
  },
  {
   "cell_type": "markdown",
   "id": "d4a53af8",
   "metadata": {},
   "source": [
    "---\n",
    "\n",
    "## Atividade 1 – Explorando um conjunto de dados simples\n",
    "\n",
    "### Dados:\n",
    "\n",
    "```python\n",
    "idades = [22, 25, 28, 24, 30, 27, 26, 25, 29, 31]\n",
    "```\n",
    "\n",
    "### Questões:\n",
    "1.  Calcule média, mediana e moda.\n",
    "2.  Calcule amplitude, variância e desvio padrão.\n",
    "3.  Explique, em poucas linhas, o que esses números indicam sobre as idades do grupo.\n"
   ]
  },
  {
   "cell_type": "code",
   "execution_count": null,
   "id": "56283a15",
   "metadata": {},
   "outputs": [],
   "source": [
    "'''\n",
    "Nome: Victor Augusto\n",
    "'''\n",
    "\n",
    "import statistics as sta\n",
    "\n",
    "idades = [22, 25, 28, 24, 30, 27, 26, 25, 29, 31]\n",
    "\n",
    "idades_media = sta.mean(idades)\n",
    "idades_mediana = sta.median(idades)\n",
    "idades_moda = sta.mode(idades)\n",
    "\n"
   ]
  },
  {
   "cell_type": "markdown",
   "id": "40c93b37",
   "metadata": {},
   "source": [
    "---\n",
    "\n",
    "## Atividade 2 – Análise de notas de um grupo de alunos\n",
    "\n",
    "### Dados:\n",
    "\n",
    "```python\n",
    "notas = [6.0, 7.5, 8.0, 9.0, 6.5, 7.0, 8.5, 6.0, 7.5, 7.0]\n",
    "```\n",
    "\n",
    "### Questões:\n",
    "1.  Calcule as medidas de tendência central e de dispersão.\n",
    "2.  Faça um histograma das notas para visualizar a distribuição.\n",
    "3.  Qual é a nota mais frequente? O que isso indica?\n",
    "4.  Comente se as notas estão muito concentradas ou espalhadas.\n"
   ]
  },
  {
   "cell_type": "markdown",
   "id": "1a82aa03",
   "metadata": {},
   "source": [
    "---\n",
    "\n",
    "## Atividade 3 – Tempos de atendimento em minutos\n",
    "\n",
    "### Dados:\n",
    "\n",
    "```python\n",
    "tempos = [4.0, 5.5, 6.0, 7.0, 5.0, 4.5, 6.5, 5.0, 4.0, 7.5]\n",
    "```\n",
    "\n",
    "### Questões:\n",
    "1.  Calcule as medidas estatísticas básicas (média, mediana, moda, amplitude, variância, desvio padrão).\n",
    "2.  Crie um boxplot para visualizar a dispersão e possíveis outliers.\n",
    "3.  Qual a diferença entre média e mediana?\n",
    "4.  O que indica se a média é maior que a mediana?\n",
    "\n"
   ]
  },
  {
   "cell_type": "markdown",
   "id": "156815ae",
   "metadata": {},
   "source": [
    "---\n",
    "\n",
    "## Atividade 4 – Comparação entre dois grupos\n",
    "\n",
    "### Dados:\n",
    "\n",
    "```python\n",
    "grupo1 = [50, 52, 53, 55, 50, 51, 54, 52]\n",
    "grupo2 = [48, 49, 47, 46, 50, 48, 49, 47]\n",
    "\n",
    "```\n",
    "\n",
    "### Questões:\n",
    "1.  Calcule média e desvio padrão para cada grupo.\n",
    "2.  Faça um gráfico de barras comparando as médias dos dois grupos.\n",
    "3.  Qual grupo tem maior variação nos dados?\n",
    "4.  Comente sobre a diferença entre os dois grupos baseada nos resultados.\n",
    "\n"
   ]
  },
  {
   "cell_type": "markdown",
   "id": "197fe91f",
   "metadata": {},
   "source": [
    "---\n",
    "\n",
    "## Atividade 5 – Relação entre duas variáveis\n",
    "\n",
    "### Dados:\n",
    "\n",
    "```python\n",
    "idade = [20, 22, 25, 23, 24, 26, 27, 30, 28, 29]\n",
    "salario = [2000, 2200, 2500, 2300, 2400, 2600, 2700, 3000, 2800, 2900]\n",
    "```\n",
    "\n",
    "### Questões:\n",
    "1.  Calcule média, mediana e desvio padrão para idade e salário.\n",
    "2.  Plote um gráfico de dispersão (scatter plot) para verificar a relação entre idade e salário.\n",
    "3.  Comente se parece existir uma relação entre as variáveis.\n",
    "4.  Que outras análises você faria para aprofundar esse estudo?"
   ]
  }
 ],
 "metadata": {
  "language_info": {
   "name": "python"
  }
 },
 "nbformat": 4,
 "nbformat_minor": 5
}
