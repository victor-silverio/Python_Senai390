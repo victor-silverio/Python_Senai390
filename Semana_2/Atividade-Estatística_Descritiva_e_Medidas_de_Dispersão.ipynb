{
 "cells": [
  {
   "cell_type": "markdown",
   "id": "63164cc2",
   "metadata": {},
   "source": [
    "# Atividade - Estatística Descritiva e Medidas de Dispersão (Google Colab)\n",
    "\n",
    "Nome: Victor Augusto de Aquino Silvério"
   ]
  },
  {
   "cell_type": "markdown",
   "id": "d4a53af8",
   "metadata": {},
   "source": [
    "---\n",
    "\n",
    "## Atividade 1 – Explorando um conjunto de dados simples\n",
    "\n",
    "### Dados:\n",
    "\n",
    "```python\n",
    "idades = [22, 25, 28, 24, 30, 27, 26, 25, 29, 31]\n",
    "```\n",
    "\n",
    "### Questões:\n",
    "1.  Calcule média, mediana e moda.\n",
    "2.  Calcule amplitude, variância e desvio padrão.\n",
    "3.  Explique, em poucas linhas, o que esses números indicam sobre as idades do grupo.\n"
   ]
  },
  {
   "cell_type": "code",
   "execution_count": 1,
   "id": "56283a15",
   "metadata": {},
   "outputs": [
    {
     "name": "stdout",
     "output_type": "stream",
     "text": [
      "Os dados originais são:\n",
      "[22, 25, 28, 24, 30, 27, 26, 25, 29, 31] \n",
      "\n",
      "A média das idades é:  26.7\n",
      "A mediana das idades é:  26.5\n",
      "A moda das idades é:  25 \n",
      "\n",
      "A amplitude das idades é:  9\n",
      "A variancia Amostral das idades é:  8.011111111111111\n",
      "A variancia populacional das idades é:  7.21\n",
      "O desvio padrão amostral das idades é:  2.8303906287138374\n",
      "O desvio padrão Populacional das idades é:  2.6851443164195103\n"
     ]
    }
   ],
   "source": [
    "'''\n",
    "Nome: Victor Augusto\n",
    "'''\n",
    "\n",
    "import statistics as sta\n",
    "\n",
    "idades = [22, 25, 28, 24, 30, 27, 26, 25, 29, 31]\n",
    "\n",
    "idades_media = sta.mean(idades)\n",
    "idades_mediana = sta.median(idades)\n",
    "idades_moda = sta.mode(idades)\n",
    "\n",
    "idades_amplitude = max(idades) - min(idades)\n",
    "\n",
    "idades_variancia_amostral = sta.variance(idades)\n",
    "idades_variancia_populacional = sta.pvariance(idades)\n",
    "\n",
    "idades_desvio_padrao_amostral = sta.stdev(idades)\n",
    "idades_desvio_padrao_populacional = sta.pstdev(idades)\n",
    "\n",
    "# ---------------------------------------------------\n",
    "\n",
    "print(\"Os dados originais são:\")\n",
    "print(idades, \"\\n\")\n",
    "\n",
    "print(\"A média das idades é: \", idades_media)\n",
    "print(\"A mediana das idades é: \", idades_mediana)\n",
    "print(\"A moda das idades é: \", idades_moda, \"\\n\")\n",
    "\n",
    "print(\"A amplitude das idades é: \", idades_amplitude)\n",
    "print(\"A variancia Amostral das idades é: \", idades_variancia_amostral)\n",
    "print(\"A variancia populacional das idades é: \", idades_variancia_populacional)\n",
    "\n",
    "print(\"O desvio padrão amostral das idades é: \", idades_desvio_padrao_amostral)\n",
    "print(\"O desvio padrão Populacional das idades é: \", idades_desvio_padrao_populacional)"
   ]
  },
  {
   "cell_type": "markdown",
   "id": "c2024435",
   "metadata": {},
   "source": [
    "## Comentários:\n",
    "\n",
    "O grupo de dados tem a idade concentrada em torno de 25-27 anos (informações retiradas da Moda, média e mediana), sendo a idade mais comum 25 anos. A maior amplitude é 9 anos, ou seja, essa é a diferença maxima entre 2 dados deste conjunto.  "
   ]
  },
  {
   "cell_type": "markdown",
   "id": "40c93b37",
   "metadata": {},
   "source": [
    "---\n",
    "\n",
    "## Atividade 2 – Análise de notas de um grupo de alunos\n",
    "\n",
    "### Dados:\n",
    "\n",
    "```python\n",
    "notas = [6.0, 7.5, 8.0, 9.0, 6.5, 7.0, 8.5, 6.0, 7.5, 7.0]\n",
    "```\n",
    "\n",
    "### Questões:\n",
    "1.  Calcule as medidas de tendência central e de dispersão.\n",
    "2.  Faça um histograma das notas para visualizar a distribuição.\n",
    "3.  Qual é a nota mais frequente? O que isso indica?\n",
    "4.  Comente se as notas estão muito concentradas ou espalhadas.\n"
   ]
  },
  {
   "cell_type": "code",
   "execution_count": 14,
   "id": "9c17fe60",
   "metadata": {},
   "outputs": [
    {
     "name": "stdout",
     "output_type": "stream",
     "text": [
      "\n",
      "Os dados originais são:\n",
      "[6.0, 7.5, 8.0, 9.0, 6.5, 7.0, 8.5, 6.0, 7.5, 7.0] \n",
      "\n",
      "A média das notas é:  7.3\n",
      "A mediana das notas é:  7.25\n",
      "A moda das notas é:  6.0 \n",
      "\n",
      "A amplitude das notas é:  3.0\n",
      "A variancia Amostral das notas é:  1.011111111111111\n",
      "A variancia populacional das notas é:  0.91 \n",
      "\n",
      "O desvio padrão amostral das notas é:  1.0055402085998904\n",
      "O desvio padrão Populacional das notas é:  0.9539392014169457 \n",
      "\n"
     ]
    },
    {
     "data": {
      "image/png": "[encoded data removed]",
      "text/plain": [
       "<Figure size 640x480 with 1 Axes>"
      ]
     },
     "metadata": {},
     "output_type": "display_data"
    },
    {
     "name": "stdout",
     "output_type": "stream",
     "text": [
      "\n",
      "A nota mais frequente, como podemos visualizar pelo histograma, é 6.0 - 6.5, que, é o valor aproximado da moda: 6.0. \n"
     ]
    }
   ],
   "source": [
    "'''\n",
    "Nome: Victor Augusto\n",
    "'''\n",
    "\n",
    "import statistics as sta\n",
    "import matplotlib.pyplot as plt\n",
    "\n",
    "notas = [6.0, 7.5, 8.0, 9.0, 6.5, 7.0, 8.5, 6.0, 7.5, 7.0]\n",
    "\n",
    "notas_media = sta.mean(notas)\n",
    "notas_mediana = sta.median(notas)\n",
    "notas_moda = sta.mode(notas)\n",
    "\n",
    "notas_amplitude = max(notas) - min(notas)\n",
    "\n",
    "notas_variancia_amostral = sta.variance(notas)\n",
    "notas_variancia_populacional = sta.pvariance(notas)\n",
    "\n",
    "notas_desvio_padrao_amostral = sta.stdev(notas)\n",
    "notas_desvio_padrao_populacional = sta.pstdev(notas)\n",
    "\n",
    "print(\"\\nOs dados originais são:\")\n",
    "print(notas, \"\\n\")\n",
    "\n",
    "print(\"A média das notas é: \", notas_media)\n",
    "print(\"A mediana das notas é: \", notas_mediana)\n",
    "print(\"A moda das notas é: \", notas_moda, \"\\n\")\n",
    "\n",
    "print(\"A amplitude das notas é: \", notas_amplitude)\n",
    "print(\"A variancia Amostral das notas é: \", notas_variancia_amostral)\n",
    "print(\"A variancia populacional das notas é: \", notas_variancia_populacional, \"\\n\")\n",
    "\n",
    "print(\"O desvio padrão amostral das notas é: \", notas_desvio_padrao_amostral)\n",
    "print(\"O desvio padrão Populacional das notas é: \", notas_desvio_padrao_populacional,\"\\n\")\n",
    "\n",
    "# Parte do grafico\n",
    "\n",
    "plt.hist(notas, bins=5)\n",
    "plt.title('Distribuição das Notas dos Alunos')\n",
    "plt.xlabel('Notas')\n",
    "plt.ylabel('Frequência')\n",
    "\n",
    "plt.show()\n",
    "\n",
    "print(f\"\\nA nota mais frequente, como podemos visualizar pelo histograma, é 6.0 - 6.5, que, é o valor aproximado da moda: {notas_moda}. \")"
   ]
  },
  {
   "cell_type": "markdown",
   "id": "e41409e2",
   "metadata": {},
   "source": [
    "## Comentários:\n",
    "\n",
    "Com uma amplitude maxima de 3.0, isso indica que as notas estão relativamente concentradas, já que se trata de uma escala de 0 a 10. O desvio padrão de aproximadamente 1,00 e a média e a mediana terem uma diferença de apenas 0.05, podemos notar/concluir que sim, as notas estão concentradas."
   ]
  },
  {
   "cell_type": "markdown",
   "id": "1a82aa03",
   "metadata": {},
   "source": [
    "---\n",
    "\n",
    "## Atividade 3 – Tempos de atendimento em minutos\n",
    "\n",
    "### Dados:\n",
    "\n",
    "```python\n",
    "tempos = [4.0, 5.5, 6.0, 7.0, 5.0, 4.5, 6.5, 5.0, 4.0, 7.5]\n",
    "```\n",
    "\n",
    "### Questões:\n",
    "1.  Calcule as medidas estatísticas básicas (média, mediana, moda, amplitude, variância, desvio padrão).\n",
    "2.  Crie um boxplot para visualizar a dispersão e possíveis outliers.\n",
    "3.  Qual a diferença entre média e mediana?\n",
    "4.  O que indica se a média é maior que a mediana?\n",
    "\n"
   ]
  },
  {
   "cell_type": "code",
   "execution_count": 5,
   "id": "628aa7b8",
   "metadata": {},
   "outputs": [
    {
     "name": "stdout",
     "output_type": "stream",
     "text": [
      "\n",
      "Os dados originais são:\n",
      "[4.0, 5.5, 6.0, 7.0, 5.0, 4.5, 6.5, 5.0, 4.0, 7.5] \n",
      "\n",
      "A média dos tempos é:  5.5\n",
      "A mediana dos tempos é:  5.25\n",
      "A moda dos tempos é:  4.0 \n",
      "\n",
      "A amplitude dos tempos é:  3.5\n",
      "A variancia Amostral dos tempos é:  1.5\n",
      "A variancia populacional dos tempos é:  1.35 \n",
      "\n",
      "O desvio padrão amostral dos tempos é:  1.224744871391589\n",
      "O desvio padrão Populacional dos tempos é:  1.161895003862225 \n",
      "\n"
     ]
    },
    {
     "data": {
      "image/png": "[encoded data removed]",
      "text/plain": [
       "<Figure size 640x480 with 1 Axes>"
      ]
     },
     "metadata": {},
     "output_type": "display_data"
    }
   ],
   "source": [
    "'''\n",
    "Nome: Victor Augusto\n",
    "\n",
    "'''\n",
    "\n",
    "import statistics as sta\n",
    "import matplotlib.pyplot as plt\n",
    "\n",
    "tempos = [4.0, 5.5, 6.0, 7.0, 5.0, 4.5, 6.5, 5.0, 4.0, 7.5]\n",
    "\n",
    "tempos_media = sta.mean(tempos)\n",
    "tempos_mediana = sta.median(tempos)\n",
    "tempos_moda = sta.mode(tempos)\n",
    "\n",
    "tempos_amplitude = max(tempos) - min(tempos)\n",
    "\n",
    "tempos_variancia_amostral = sta.variance(tempos)\n",
    "tempos_variancia_populacional = sta.pvariance(tempos)\n",
    "\n",
    "tempos_desvio_padrao_amostral = sta.stdev(tempos)\n",
    "tempos_desvio_padrao_populacional = sta.pstdev(tempos)\n",
    "\n",
    "print(\"\\nOs dados originais são:\")\n",
    "print(tempos, \"\\n\")\n",
    "\n",
    "print(\"A média dos tempos é: \", tempos_media)\n",
    "print(\"A mediana dos tempos é: \", tempos_mediana)\n",
    "print(\"A moda dos tempos é: \", tempos_moda, \"\\n\")\n",
    "\n",
    "print(\"A amplitude dos tempos é: \", tempos_amplitude)\n",
    "print(\"A variancia Amostral dos tempos é: \", tempos_variancia_amostral)\n",
    "print(\"A variancia populacional dos tempos é: \", tempos_variancia_populacional, \"\\n\")\n",
    "\n",
    "print(\"O desvio padrão amostral dos tempos é: \", tempos_desvio_padrao_amostral)\n",
    "print(\"O desvio padrão Populacional dos tempos é: \", tempos_desvio_padrao_populacional,\"\\n\")\n",
    "\n",
    "plt.boxplot(tempos, vert=False)\n",
    "plt.title('Tempos de Atendimento')\n",
    "plt.xlabel('Tempo (em minutos)')\n",
    "plt.show()"
   ]
  },
  {
   "cell_type": "markdown",
   "id": "2c3e5b68",
   "metadata": {},
   "source": [
    "## Comentários\n",
    "\n",
    "3. A diferença entre a média e a mediana é de 0.25\n",
    "\n",
    "4. Uma média maior que a mediana, revelam uma assimetria nos dados, onde alguns valores extremos (outliers), puxam a média para cima. Isso revela a importancia de uma analise multi-vista, onde analisamos diversos critérios."
   ]
  },
  {
   "cell_type": "markdown",
   "id": "156815ae",
   "metadata": {},
   "source": [
    "---\n",
    "\n",
    "## Atividade 4 – Comparação entre dois grupos\n",
    "\n",
    "### Dados:\n",
    "\n",
    "```python\n",
    "grupo1 = [50, 52, 53, 55, 50, 51, 54, 52]\n",
    "grupo2 = [48, 49, 47, 46, 50, 48, 49, 47]\n",
    "\n",
    "```\n",
    "\n",
    "### Questões:\n",
    "1.  Calcule média e desvio padrão para cada grupo.\n",
    "2.  Faça um gráfico de barras comparando as médias dos dois grupos.\n",
    "3.  Qual grupo tem maior variação nos dados?\n",
    "4.  Comente sobre a diferença entre os dois grupos baseada nos resultados.\n",
    "\n"
   ]
  },
  {
   "cell_type": "code",
   "execution_count": 17,
   "id": "dfb5c2c8",
   "metadata": {},
   "outputs": [
    {
     "name": "stdout",
     "output_type": "stream",
     "text": [
      "\n",
      "\n",
      "dados originais do Grupo 1:  \n",
      " [50, 52, 53, 55, 50, 51, 54, 52] \n",
      "\n",
      "Média grupo 1:  52.125\n",
      "Desvio Padrão Amostral Grupo 1:  1.807721533549109\n",
      "Desvio Padrão populacional Grupo 1:  1.6909686573085854\n",
      "\n",
      "\n",
      "dados originais do Grupo 2:  \n",
      " [48, 49, 47, 46, 50, 48, 49, 47] \n",
      "\n",
      "Média grupo 2:  48\n",
      "Desvio Padrão Amostral Grupo 2:  1.3093073414159544\n",
      "Desvio Padrão populacional Grupo 2:  1.224744871391589\n",
      "\n",
      "\n"
     ]
    },
    {
     "data": {
      "image/png": "[encoded data removed]",
      "text/plain": [
       "<Figure size 640x480 with 1 Axes>"
      ]
     },
     "metadata": {},
     "output_type": "display_data"
    }
   ],
   "source": [
    "'''\n",
    "Nome: Victor Augusto\n",
    "\n",
    "'''\n",
    "\n",
    "import statistics as sta\n",
    "import matplotlib.pyplot as plt\n",
    "\n",
    "grupo1 = [50, 52, 53, 55, 50, 51, 54, 52]\n",
    "grupo2 = [48, 49, 47, 46, 50, 48, 49, 47]\n",
    "\n",
    "media_grupo1 = sta.mean(grupo1)\n",
    "media_grupo2 = sta.mean(grupo2)\n",
    "\n",
    "desvio_padrao_amostral_grupo1 = sta.stdev(grupo1)\n",
    "desvio_padrao_populacional_grupo1 = sta.pstdev(grupo1)\n",
    "desvio_padrao_amostral_grupo2 = sta.stdev(grupo2)\n",
    "desvio_padrao_populacional_grupo2 = sta.pstdev(grupo2)\n",
    "\n",
    "print(\"\\n\")\n",
    "print(\"dados originais do Grupo 1: \", \"\\n\", grupo1, \"\\n\")\n",
    "print(\"Média grupo 1: \", media_grupo1)\n",
    "print(\"Desvio Padrão Amostral Grupo 1: \", desvio_padrao_amostral_grupo1)\n",
    "print(\"Desvio Padrão populacional Grupo 1: \", desvio_padrao_populacional_grupo1)\n",
    "\n",
    "print(\"\\n\")\n",
    "\n",
    "print(\"dados originais do Grupo 2: \", \"\\n\", grupo2, \"\\n\")\n",
    "print(\"Média grupo 2: \", media_grupo2)\n",
    "print(\"Desvio Padrão Amostral Grupo 2: \", desvio_padrao_amostral_grupo2)\n",
    "print(\"Desvio Padrão populacional Grupo 2: \", desvio_padrao_populacional_grupo2)\n",
    "print(\"\\n\")\n",
    "\n",
    "titulos = [\"Grupo 1\", \"Grupo 2\"]\n",
    "medias = [media_grupo1, media_grupo2]\n",
    "\n",
    "plt.bar(titulos, medias)\n",
    "plt.title('Comparação das médias')\n",
    "plt.ylabel('valor da média')\n",
    "\n",
    "plt.show()"
   ]
  },
  {
   "cell_type": "markdown",
   "id": "d635897f",
   "metadata": {},
   "source": [
    "## Comentários:\n",
    "\n",
    "3. O grupo 1 possui um desvio padrão maior, logo, ele é mais disperso/variado que o grupo 2.\n",
    "\n",
    "4. O grupo 1 tem uma média de 52.125, relativamente maior que o grupo 2, de 48. Além disso, através do desvio padrão, podemos notar que o grupo 1 possui dados mais dispersos que o grupo 2, que apresenta dados mais concentrados."
   ]
  },
  {
   "cell_type": "markdown",
   "id": "197fe91f",
   "metadata": {},
   "source": [
    "---\n",
    "\n",
    "## Atividade 5 – Relação entre duas variáveis\n",
    "\n",
    "### Dados:\n",
    "\n",
    "```python\n",
    "idade = [20, 22, 25, 23, 24, 26, 27, 30, 28, 29]\n",
    "salario = [2000, 2200, 2500, 2300, 2400, 2600, 2700, 3000, 2800, 2900]\n",
    "```\n",
    "\n",
    "### Questões:\n",
    "1.  Calcule média, mediana e desvio padrão para idade e salário.\n",
    "2.  Plote um gráfico de dispersão (scatter plot) para verificar a relação entre idade e salário.\n",
    "3.  Comente se parece existir uma relação entre as variáveis.\n",
    "4.  Que outras análises você faria para aprofundar esse estudo?"
   ]
  },
  {
   "cell_type": "code",
   "execution_count": 19,
   "id": "83f1b4e4",
   "metadata": {},
   "outputs": [],
   "source": [
    "'''\n",
    "Nome: Victor Augusto\n",
    "\n",
    "'''\n",
    "\n",
    "import statistics as sta\n",
    "import matplotlib.pyplot as plt\n",
    "\n",
    "idade = [20, 22, 25, 23, 24, 26, 27, 30, 28, 29]\n",
    "salario = [2000, 2200, 2500, 2300, 2400, 2600, 2700, 3000, 2800, 2900]\n",
    "\n",
    "media_idade = sta.mean(idade)\n",
    "mediana_idade = sta.median(idade)\n",
    "desvio_padrao_amostral_idade = sta.stdev(idade)\n",
    "desvio_padrao_populacional_idade = sta.pstdev(idade)\n",
    "\n",
    "\n"
   ]
  },
  {
   "cell_type": "markdown",
   "id": "c29b78d1",
   "metadata": {},
   "source": []
  }
 ],
 "metadata": {
  "kernelspec": {
   "display_name": "Python 3",
   "language": "python",
   "name": "python3"
  },
  "language_info": {
   "codemirror_mode": {
    "name": "ipython",
    "version": 3
   },
   "file_extension": ".py",
   "mimetype": "text/x-python",
   "name": "python",
   "nbconvert_exporter": "python",
   "pygments_lexer": "ipython3",
   "version": "3.13.3"
  }
 },
 "nbformat": 4,
 "nbformat_minor": 5
}
