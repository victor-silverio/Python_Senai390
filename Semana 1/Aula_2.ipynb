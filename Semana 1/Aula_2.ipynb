{
 "cells": [
  {
   "cell_type": "markdown",
   "metadata": {},
   "source": [
    "# Média via Pandas & Numpy"
   ]
  },
  {
   "cell_type": "code",
   "execution_count": 16,
   "metadata": {},
   "outputs": [
    {
     "name": "stdout",
     "output_type": "stream",
     "text": [
      "Dados: [2, 4, 6, 8, 10] \n",
      "\n",
      "Média dos dados via Pandas: 6.0\n",
      "Média dos dados via Numpy: 6.0\n"
     ]
    }
   ],
   "source": [
    "# Média via Pandas\n",
    "\n",
    "import pandas as pd\n",
    "data = [2, 4, 6, 8, 10]\n",
    "\n",
    "df = pd.DataFrame(data)\n",
    "media = df.mean()\n",
    "media_unico = media[0]\n",
    "\n",
    "print(\"Dados:\", data, \"\\n\")\n",
    "\n",
    "print(\"Média dos dados via Pandas:\", media_unico)\n",
    "\n",
    "# Média via Numpy\n",
    "\n",
    "import numpy as np\n",
    "\n",
    "media_numpy = np.mean(data)\n",
    "\n",
    "print(\"Média dos dados via Numpy:\", media_numpy)"
   ]
  },
  {
   "cell_type": "markdown",
   "metadata": {},
   "source": [
    "# Moda via Pandas & Numpy"
   ]
  },
  {
   "cell_type": "code",
   "execution_count": null,
   "metadata": {},
   "outputs": [
    {
     "name": "stdout",
     "output_type": "stream",
     "text": [
      "Dados: [10, 10, 10, 11, 12, 12, 13, 15, 17] \n",
      "\n",
      "Moda dos dados via Pandas: 10\n",
      "moda dos dados via Numpy: 10\n"
     ]
    }
   ],
   "source": [
    "# Moda via Pandas\n",
    "\n",
    "import pandas as pd\n",
    "data = [10,10,10,11,12,12,13,15,17]\n",
    "\n",
    "df = pd.DataFrame(data)\n",
    "moda = df.mode()[0][0]\n",
    "\n",
    "print(\"Dados:\", data, \"\\n\")\n",
    "\n",
    "print(\"Moda dos dados via Pandas:\", moda)\n",
    "\n",
    "# Moda via Numpy\n",
    "\n",
    "import numpy as np\n",
    "from scipy import stats #numpy não tem por padrão, logo se importa do scipy.stats\n",
    "\n",
    "array_data = np.array(data)\n",
    "\n",
    "moda_numpy = stats.mode(array_data)[0]\n",
    "\n",
    "print(\"moda dos dados via Numpy:\", moda_numpy)"
   ]
  },
  {
   "cell_type": "markdown",
   "metadata": {},
   "source": [
    "# Mediana via Pandas & Numpy"
   ]
  },
  {
   "cell_type": "code",
   "execution_count": 22,
   "metadata": {},
   "outputs": [
    {
     "name": "stdout",
     "output_type": "stream",
     "text": [
      "Dados: [2, 2, 4, 4, 6, 7, 8] \n",
      "\n",
      "Mediana dos dados: 4.0\n",
      "Mediana dos dados via Numpy: 4.0\n"
     ]
    }
   ],
   "source": [
    "# Mediana via Pandas\n",
    "\n",
    "import pandas as pd\n",
    "data = [2, 2, 4, 4, 6, 7, 8]\n",
    "\n",
    "df = pd.DataFrame(data)\n",
    "mediana = df.median()[0]\n",
    "\n",
    "print(\"Dados:\", data, \"\\n\")\n",
    "print(\"Mediana dos dados:\", mediana)\n",
    "\n",
    "# Mediana via Numpy\n",
    "\n",
    "import numpy as np\n",
    "\n",
    "mediana_numpy = np.median(data)\n",
    "\n",
    "print(\"Mediana dos dados via Numpy:\", mediana_numpy)\n"
   ]
  },
  {
   "cell_type": "markdown",
   "metadata": {},
   "source": [
    "# Amplitude via Pandas & Numpy"
   ]
  },
  {
   "cell_type": "code",
   "execution_count": 23,
   "metadata": {},
   "outputs": [
    {
     "name": "stdout",
     "output_type": "stream",
     "text": [
      "Dados: [2, 4, 6, 8, 10] \n",
      "\n",
      "Amplitude dos dados via Pandas: 8\n",
      "Amplitude dos dados via Numpy: 8\n"
     ]
    }
   ],
   "source": [
    "# Amplitude via Pandas\n",
    "import pandas as pd\n",
    "\n",
    "data = [2, 4, 6, 8, 10]\n",
    "df = pd.DataFrame(data)\n",
    "\n",
    "amplitude = df.max()[0] - df.min()[0]\n",
    "\n",
    "print(\"Dados:\", data, \"\\n\")\n",
    "print(\"Amplitude dos dados via Pandas:\", amplitude)\n",
    "\n",
    "# Amplitude via Numpy\n",
    "\n",
    "import numpy as np\n",
    "\n",
    "amplitude_numpy = np.max(data) - np.min(data)\n",
    "\n",
    "print(\"Amplitude dos dados via Numpy:\", amplitude_numpy)"
   ]
  },
  {
   "cell_type": "markdown",
   "metadata": {},
   "source": [
    "# Variancia via Pandas e Numpy"
   ]
  },
  {
   "cell_type": "code",
   "execution_count": 30,
   "metadata": {},
   "outputs": [
    {
     "name": "stdout",
     "output_type": "stream",
     "text": [
      "Dados: [3, 5, 2, 2] \n",
      "\n",
      "Variância dos dados via Pandas: 1.5\n",
      "Variância dos dados via Numpy: 1.5\n"
     ]
    }
   ],
   "source": [
    "# Variância via Pandas\n",
    "import pandas as pd\n",
    "\n",
    "data = [3, 5, 2, 2]\n",
    "df = pd.DataFrame(data)\n",
    "\n",
    "variancia = df.var(ddof=0)[0]\n",
    "\n",
    "print(\"Dados:\", data, \"\\n\")\n",
    "print(\"Variância dos dados via Pandas:\", variancia)\n",
    "\n",
    "# Variância via Numpy\n",
    "\n",
    "import numpy as np\n",
    "\n",
    "variancia_numpy = np.var(data, ddof=0)#\n",
    "\n",
    "print(\"Variância dos dados via Numpy:\", variancia_numpy)\n"
   ]
  },
  {
   "cell_type": "markdown",
   "metadata": {},
   "source": [
    "# Desvio Padrão"
   ]
  },
  {
   "cell_type": "code",
   "execution_count": 38,
   "metadata": {},
   "outputs": [
    {
     "name": "stdout",
     "output_type": "stream",
     "text": [
      "Dados: [3, 5, 2, 2] \n",
      "\n",
      "Desvio Padrão dos dados via Pandas: 1.22\n",
      "Desvio Padrão dos dados via Numpy: 1.22\n"
     ]
    }
   ],
   "source": [
    "# Desvio Padrão via Pandas\n",
    "import pandas as pd\n",
    "\n",
    "data = [3, 5, 2, 2]\n",
    "df = pd.DataFrame(data)\n",
    "\n",
    "desvio_padrao = df.std(ddof=0)[0]\n",
    "\n",
    "print(\"Dados:\", data, \"\\n\")\n",
    "\n",
    "desvio_padrao = round(desvio_padrao, 2)\n",
    "print(\"Desvio Padrão dos dados via Pandas:\", desvio_padrao)\n",
    "\n",
    "# Desvio Padrão via Numpy\n",
    "import numpy as np\n",
    "\n",
    "desvio_padrao_numpy = np.std(data, ddof=0)\n",
    "desvio_padrao_numpy = round(desvio_padrao_numpy, 2)\n",
    "print(\"Desvio Padrão dos dados via Numpy:\", desvio_padrao_numpy)\n"
   ]
  },
  {
   "cell_type": "markdown",
   "metadata": {},
   "source": [
    "# Por enquanto só tem os 2, pq foi oque precisei para os slides!"
   ]
  },
  {
   "cell_type": "markdown",
   "metadata": {
    "id": "hZPmS3psf1dw"
   },
   "source": [
    "Exibição gráfica da mediana:"
   ]
  },
  {
   "cell_type": "code",
   "execution_count": null,
   "metadata": {
    "colab": {
     "base_uri": "https://localhost:8080/",
     "height": 424
    },
    "executionInfo": {
     "elapsed": 483,
     "status": "ok",
     "timestamp": 1754523809710,
     "user": {
      "displayName": "Victor Augusto De Aquino Silvério",
      "userId": "17452963221825089412"
     },
     "user_tz": 180
    },
    "id": "QhQcTtezwVov",
    "outputId": "7ef686b3-f096-4faa-a97e-f8f1f8f1c2d7"
   },
   "outputs": [
    {
     "data": {
      "image/png": "[encoded data removed]",
      "text/plain": [
       "<Figure size 1000x400 with 1 Axes>"
      ]
     },
     "metadata": {},
     "output_type": "display_data"
    },
    {
     "data": {
      "text/plain": [
       "<Figure size 640x480 with 0 Axes>"
      ]
     },
     "metadata": {},
     "output_type": "display_data"
    }
   ],
   "source": [
    "import matplotlib.pyplot as plt #Biblioteca para criação de gráficos\n",
    "import numpy as np #Biblioteca com diversas funções matemáticas\n",
    "\n",
    "data = [9, 6, 6, 5, 4, 3, 3, 2] #Define o conjunto de dados a ser analisado\n",
    "\n",
    "#calculando a mediana via numpy\n",
    "median_value = np.median(data) #Calcula a mediana do conjunto de dados\n",
    "\n",
    "fig, ax = plt.subplots(figsize=(10, 4)) #Cria a figura e os eixos para o gráfico, definindo o tamanho\n",
    "\n",
    "box = ax.boxplot(data, vert=False, patch_artist=True,\n",
    "                 boxprops=dict(facecolor='lightblue', edgecolor='blue'),\n",
    "                 medianprops=dict(color='red', linewidth=2.5))\n",
    "\n",
    "ax.set_title('Gráfico de Caixa para Representar a Mediana', fontsize=14) #Define o título do gráfico\n",
    "ax.set_xlabel('Valores do Conjunto de Dados') #Define o rótulo do eixo horizontal (X)\n",
    "\n",
    "#Adiciona o texto com o valor da mediana acima da linha no gráfico\n",
    "ax.text(median_value, 1.15, f'Mediana = {median_value}',\n",
    "        verticalalignment='center',\n",
    "        horizontalalignment='center',\n",
    "        color='red',\n",
    "        fontsize=12,\n",
    "        fontweight='bold')\n",
    "\n",
    "ax.xaxis.grid(True, linestyle='--', which='major', color='grey', alpha=0.7) #Adiciona e estiliza a grade vertical do gráfico\n",
    "\n",
    "plt.tight_layout() #Ajusta o gráfico para evitar que os elementos se sobreponham\n",
    "\n",
    "plt.show() #Exibe o gráfico gerado na tela\n",
    "\n",
    "plt.savefig('boxplot_mediana.png') #Salva o gráfico como um arquivo de imagem .png"
   ]
  },
  {
   "cell_type": "markdown",
   "metadata": {
    "id": "FSrqODcs0K6D"
   },
   "source": [
    "Exibição Gráfica da Amplitude:"
   ]
  },
  {
   "cell_type": "code",
   "execution_count": 27,
   "metadata": {
    "colab": {
     "base_uri": "https://localhost:8080/",
     "height": 472
    },
    "executionInfo": {
     "elapsed": 256,
     "status": "ok",
     "timestamp": 1754525070845,
     "user": {
      "displayName": "Victor Augusto De Aquino Silvério",
      "userId": "17452963221825089412"
     },
     "user_tz": 180
    },
    "id": "mp7RWXcR0Njf",
    "outputId": "98ee532e-95e1-4c87-b10e-8c41e34434e2"
   },
   "outputs": [
    {
     "data": {
      "image/png": "[encoded data removed]",
      "text/plain": [
       "<Figure size 640x480 with 1 Axes>"
      ]
     },
     "metadata": {},
     "output_type": "display_data"
    }
   ],
   "source": [
    "import matplotlib.pyplot as plt\n",
    "\n",
    "# Notas dos alunos\n",
    "notas_maria = [2, 4, 5, 6, 9, 10]\n",
    "notas_joao = [6, 7, 8, 7, 6, 8]\n",
    "\n",
    "# Cálculo da amplitude para cada aluno\n",
    "amplitude_maria = max(notas_maria) - min(notas_maria)\n",
    "amplitude_joao = max(notas_joao) - min(notas_joao)\n",
    "\n",
    "# Dados para o gráfico\n",
    "alunos = ['Maria', 'João']\n",
    "amplitudes = [amplitude_maria, amplitude_joao]\n",
    "\n",
    "# Criação do gráfico de barras\n",
    "plt.bar(alunos, amplitudes, color=['blue', 'green'])\n",
    "\n",
    "# Adicionando rótulos aos eixos e um título ao gráfico\n",
    "plt.xlabel('Alunos')\n",
    "plt.ylabel('Amplitude das Notas')\n",
    "plt.title('Amplitude das Notas de Maria e João')\n",
    "\n",
    "# Adicionando o valor exato no topo de cada barra\n",
    "for i, v in enumerate(amplitudes):\n",
    "    plt.text(i, v + 0.01, str(v), ha='center', va='bottom')\n",
    "\n",
    "# Salvando o gráfico em um arquivo de imagem\n",
    "plt.savefig('amplitude_notas.png')"
   ]
  }
 ],
 "metadata": {
  "colab": {
   "provenance": []
  },
  "kernelspec": {
   "display_name": "Python 3",
   "name": "python3"
  },
  "language_info": {
   "codemirror_mode": {
    "name": "ipython",
    "version": 3
   },
   "file_extension": ".py",
   "mimetype": "text/x-python",
   "name": "python",
   "nbconvert_exporter": "python",
   "pygments_lexer": "ipython3",
   "version": "3.13.3"
  }
 },
 "nbformat": 4,
 "nbformat_minor": 0
}
