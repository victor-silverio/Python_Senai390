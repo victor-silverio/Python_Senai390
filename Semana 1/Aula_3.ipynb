{
 "cells": [
  {
   "cell_type": "markdown",
   "metadata": {},
   "source": [
    "# Média via Pandas & Numpy"
   ]
  },
  {
   "cell_type": "code",
   "execution_count": 16,
   "metadata": {},
   "outputs": [
    {
     "name": "stdout",
     "output_type": "stream",
     "text": [
      "Dados: [2, 4, 6, 8, 10] \n",
      "\n",
      "Média dos dados via Pandas: 6.0\n",
      "Média dos dados via Numpy: 6.0\n"
     ]
    }
   ],
   "source": [
    "# Média via Pandas\n",
    "\n",
    "import pandas as pd\n",
    "data = [2, 4, 6, 8, 10]\n",
    "\n",
    "df = pd.DataFrame(data)\n",
    "media = df.mean()\n",
    "media_unico = media[0]\n",
    "\n",
    "print(\"Dados:\", data, \"\\n\")\n",
    "\n",
    "print(\"Média dos dados via Pandas:\", media_unico)\n",
    "\n",
    "# Média via Numpy\n",
    "\n",
    "import numpy as np\n",
    "\n",
    "media_numpy = np.mean(data)\n",
    "\n",
    "print(\"Média dos dados via Numpy:\", media_numpy)"
   ]
  },
  {
   "cell_type": "markdown",
   "metadata": {},
   "source": [
    "# Moda via Pandas & Numpy"
   ]
  },
  {
   "cell_type": "code",
   "execution_count": null,
   "metadata": {},
   "outputs": [
    {
     "name": "stdout",
     "output_type": "stream",
     "text": [
      "Dados: [10, 10, 10, 11, 12, 12, 13, 15, 17] \n",
      "\n",
      "Moda dos dados via Pandas: 10\n",
      "moda dos dados via Numpy: 10\n"
     ]
    }
   ],
   "source": [
    "# Moda via Pandas\n",
    "\n",
    "import pandas as pd\n",
    "data = [10,10,10,11,12,12,13,15,17]\n",
    "\n",
    "df = pd.DataFrame(data)\n",
    "moda = df.mode()[0][0]\n",
    "\n",
    "print(\"Dados:\", data, \"\\n\")\n",
    "\n",
    "print(\"Moda dos dados via Pandas:\", moda)\n",
    "\n",
    "# Moda via Numpy\n",
    "\n",
    "import numpy as np\n",
    "from scipy import stats #numpy não tem por padrão, logo se importa do scipy.stats\n",
    "\n",
    "array_data = np.array(data)\n",
    "\n",
    "moda_numpy = stats.mode(array_data)[0]\n",
    "\n",
    "print(\"moda dos dados via Numpy:\", moda_numpy)"
   ]
  },
  {
   "cell_type": "markdown",
   "metadata": {},
   "source": [
    "# Mediana via Pandas & Numpy"
   ]
  },
  {
   "cell_type": "code",
   "execution_count": 22,
   "metadata": {},
   "outputs": [
    {
     "name": "stdout",
     "output_type": "stream",
     "text": [
      "Dados: [2, 2, 4, 4, 6, 7, 8] \n",
      "\n",
      "Mediana dos dados: 4.0\n",
      "Mediana dos dados via Numpy: 4.0\n"
     ]
    }
   ],
   "source": [
    "# Mediana via Pandas\n",
    "\n",
    "import pandas as pd\n",
    "data = [2, 2, 4, 4, 6, 7, 8]\n",
    "\n",
    "df = pd.DataFrame(data)\n",
    "mediana = df.median()[0]\n",
    "\n",
    "print(\"Dados:\", data, \"\\n\")\n",
    "print(\"Mediana dos dados:\", mediana)\n",
    "\n",
    "# Mediana via Numpy\n",
    "\n",
    "import numpy as np\n",
    "\n",
    "mediana_numpy = np.median(data)\n",
    "\n",
    "print(\"Mediana dos dados via Numpy:\", mediana_numpy)\n"
   ]
  },
  {
   "cell_type": "markdown",
   "metadata": {},
   "source": [
    "# Amplitude via Pandas & Numpy"
   ]
  },
  {
   "cell_type": "code",
   "execution_count": 23,
   "metadata": {},
   "outputs": [
    {
     "name": "stdout",
     "output_type": "stream",
     "text": [
      "Dados: [2, 4, 6, 8, 10] \n",
      "\n",
      "Amplitude dos dados via Pandas: 8\n",
      "Amplitude dos dados via Numpy: 8\n"
     ]
    }
   ],
   "source": [
    "# Amplitude via Pandas\n",
    "import pandas as pd\n",
    "\n",
    "data = [2, 4, 6, 8, 10]\n",
    "df = pd.DataFrame(data)\n",
    "\n",
    "amplitude = df.max()[0] - df.min()[0]\n",
    "\n",
    "print(\"Dados:\", data, \"\\n\")\n",
    "print(\"Amplitude dos dados via Pandas:\", amplitude)\n",
    "\n",
    "# Amplitude via Numpy\n",
    "\n",
    "import numpy as np\n",
    "\n",
    "amplitude_numpy = np.max(data) - np.min(data)\n",
    "\n",
    "print(\"Amplitude dos dados via Numpy:\", amplitude_numpy)"
   ]
  },
  {
   "cell_type": "markdown",
   "metadata": {},
   "source": [
    "# Variancia via Pandas e Numpy"
   ]
  },
  {
   "cell_type": "code",
   "execution_count": 30,
   "metadata": {},
   "outputs": [
    {
     "name": "stdout",
     "output_type": "stream",
     "text": [
      "Dados: [3, 5, 2, 2] \n",
      "\n",
      "Variância dos dados via Pandas: 1.5\n",
      "Variância dos dados via Numpy: 1.5\n"
     ]
    }
   ],
   "source": [
    "# Variância via Pandas\n",
    "import pandas as pd\n",
    "\n",
    "data = [3, 5, 2, 2]\n",
    "df = pd.DataFrame(data)\n",
    "\n",
    "variancia = df.var(ddof=0)[0]\n",
    "\n",
    "print(\"Dados:\", data, \"\\n\")\n",
    "print(\"Variância dos dados via Pandas:\", variancia)\n",
    "\n",
    "# Variância via Numpy\n",
    "\n",
    "import numpy as np\n",
    "\n",
    "variancia_numpy = np.var(data, ddof=0)#\n",
    "\n",
    "print(\"Variância dos dados via Numpy:\", variancia_numpy)\n"
   ]
  },
  {
   "cell_type": "markdown",
   "metadata": {},
   "source": [
    "# Desvio Padrão"
   ]
  },
  {
   "cell_type": "code",
   "execution_count": 38,
   "metadata": {},
   "outputs": [
    {
     "name": "stdout",
     "output_type": "stream",
     "text": [
      "Dados: [3, 5, 2, 2] \n",
      "\n",
      "Desvio Padrão dos dados via Pandas: 1.22\n",
      "Desvio Padrão dos dados via Numpy: 1.22\n"
     ]
    }
   ],
   "source": [
    "# Desvio Padrão via Pandas\n",
    "import pandas as pd\n",
    "\n",
    "data = [3, 5, 2, 2]\n",
    "df = pd.DataFrame(data)\n",
    "\n",
    "desvio_padrao = df.std(ddof=0)[0]\n",
    "\n",
    "print(\"Dados:\", data, \"\\n\")\n",
    "\n",
    "desvio_padrao = round(desvio_padrao, 2)\n",
    "print(\"Desvio Padrão dos dados via Pandas:\", desvio_padrao)\n",
    "\n",
    "# Desvio Padrão via Numpy\n",
    "import numpy as np\n",
    "\n",
    "desvio_padrao_numpy = np.std(data, ddof=0)\n",
    "desvio_padrao_numpy = round(desvio_padrao_numpy, 2)\n",
    "print(\"Desvio Padrão dos dados via Numpy:\", desvio_padrao_numpy)\n"
   ]
  }
 ],
 "metadata": {
  "colab": {
   "provenance": []
  },
  "kernelspec": {
   "display_name": "Python 3",
   "name": "python3"
  },
  "language_info": {
   "codemirror_mode": {
    "name": "ipython",
    "version": 3
   },
   "file_extension": ".py",
   "mimetype": "text/x-python",
   "name": "python",
   "nbconvert_exporter": "python",
   "pygments_lexer": "ipython3",
   "version": "3.13.3"
  }
 },
 "nbformat": 4,
 "nbformat_minor": 0
}
