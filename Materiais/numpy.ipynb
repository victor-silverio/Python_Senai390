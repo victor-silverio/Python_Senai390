{
  "cells": [
    {
      "cell_type": "markdown",
      "id": "e9ed2edb",
      "metadata": {
        "id": "e9ed2edb"
      },
      "source": [
        "# Introdução ao NumPy\n",
        "NumPy é uma biblioteca para cálculos numéricos em Python. Ele permite trabalhar com arrays e matrizes de forma rápida e eficiente."
      ]
    },
    {
      "cell_type": "code",
      "execution_count": null,
      "id": "455bd904",
      "metadata": {
        "id": "455bd904"
      },
      "outputs": [],
      "source": [
        "import numpy as np"
      ]
    },
    {
      "cell_type": "markdown",
      "id": "4a9844c5",
      "metadata": {
        "id": "4a9844c5"
      },
      "source": [
        "## Criando Arrays\n",
        "Um **array** é semelhante a uma lista, mas otimizado para operações matemáticas."
      ]
    },
    {
      "cell_type": "code",
      "execution_count": null,
      "id": "6adb6878",
      "metadata": {
        "id": "6adb6878",
        "colab": {
          "base_uri": "https://localhost:8080/"
        },
        "outputId": "3366d3a9-fb59-4a4d-9ad8-cd63244893ae"
      },
      "outputs": [
        {
          "output_type": "stream",
          "name": "stdout",
          "text": [
            "Array: [1 2 3 4 5]\n",
            "Tipo dos elementos: int64\n"
          ]
        }
      ],
      "source": [
        "arr = np.array([1, 2, 3, 4, 5])\n",
        "print(\"Array:\", arr)\n",
        "print(\"Tipo dos elementos:\", arr.dtype)"
      ]
    },
    {
      "cell_type": "markdown",
      "id": "9048581a",
      "metadata": {
        "id": "9048581a"
      },
      "source": [
        "## Comparando com listas\n",
        "NumPy permite operações matemáticas vetorizadas, sem precisar de loops."
      ]
    },
    {
      "cell_type": "code",
      "execution_count": null,
      "id": "bb229042",
      "metadata": {
        "id": "bb229042",
        "colab": {
          "base_uri": "https://localhost:8080/"
        },
        "outputId": "30f6a9ed-76ad-4f18-be78-ac27adf0fb5f"
      },
      "outputs": [
        {
          "output_type": "stream",
          "name": "stdout",
          "text": [
            "[2, 4, 6, 8, 10]\n",
            "[ 2  4  6  8 10]\n"
          ]
        }
      ],
      "source": [
        "lista = [1, 2, 3, 4, 5]\n",
        "print([x*2 for x in lista])  # Usando lista normal\n",
        "print(arr*2)                 # Usando NumPy (mais simples e rápido)"
      ]
    },
    {
      "cell_type": "markdown",
      "id": "ea6830ad",
      "metadata": {
        "id": "ea6830ad"
      },
      "source": [
        "## Matrizes\n",
        "Arrays multidimensionais são usados para representar matrizes."
      ]
    },
    {
      "cell_type": "code",
      "execution_count": null,
      "id": "24ce2d3f",
      "metadata": {
        "id": "24ce2d3f",
        "colab": {
          "base_uri": "https://localhost:8080/"
        },
        "outputId": "e5635b42-5e84-48c1-97e2-a866971bb761"
      },
      "outputs": [
        {
          "output_type": "stream",
          "name": "stdout",
          "text": [
            "Matriz:\n",
            " [[1 2]\n",
            " [3 4]]\n",
            "Transposta:\n",
            " [[1 3]\n",
            " [2 4]]\n",
            "Produto matricial:\n",
            " [[ 7 10]\n",
            " [15 22]]\n"
          ]
        }
      ],
      "source": [
        "matriz = np.array([[1, 2], [3, 4]])\n",
        "print(\"Matriz:\\n\", matriz)\n",
        "print(\"Transposta:\\n\", matriz.T)\n",
        "print(\"Produto matricial:\\n\", np.dot(matriz, matriz))"
      ]
    },
    {
      "cell_type": "markdown",
      "id": "53e70f5a",
      "metadata": {
        "id": "53e70f5a"
      },
      "source": [
        "## Funções úteis\n",
        "NumPy possui várias funções prontas para cálculos estatísticos e geração de arrays."
      ]
    },
    {
      "cell_type": "code",
      "execution_count": null,
      "id": "abec60cf",
      "metadata": {
        "id": "abec60cf",
        "colab": {
          "base_uri": "https://localhost:8080/"
        },
        "outputId": "5c18993d-c935-40dc-9af7-db6b6e40f54c"
      },
      "outputs": [
        {
          "output_type": "stream",
          "name": "stdout",
          "text": [
            "Zeros:\n",
            " [[0. 0.]\n",
            " [0. 0.]]\n",
            "Ones:\n",
            " [[1. 1. 1.]\n",
            " [1. 1. 1.]\n",
            " [1. 1. 1.]]\n",
            "Aleatórios:\n",
            " [[6 0 9]\n",
            " [2 4 5]\n",
            " [2 8 3]]\n",
            "Média do array: 3.0\n",
            "Soma do array: 15\n"
          ]
        }
      ],
      "source": [
        "print(\"Zeros:\\n\", np.zeros((2,2)))\n",
        "print(\"Ones:\\n\", np.ones((3,3)))\n",
        "print(\"Aleatórios:\\n\", np.random.randint(0,10,(3,3)))\n",
        "print(\"Média do array:\", arr.mean())\n",
        "print(\"Soma do array:\", arr.sum())"
      ]
    }
  ],
  "metadata": {
    "language_info": {
      "name": "python"
    },
    "colab": {
      "provenance": []
    },
    "kernelspec": {
      "name": "python3",
      "display_name": "Python 3"
    }
  },
  "nbformat": 4,
  "nbformat_minor": 5
}