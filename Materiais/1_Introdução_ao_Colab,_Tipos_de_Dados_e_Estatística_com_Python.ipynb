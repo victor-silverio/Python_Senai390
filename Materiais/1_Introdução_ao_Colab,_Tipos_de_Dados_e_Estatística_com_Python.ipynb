{
  "nbformat": 4,
  "nbformat_minor": 0,
  "metadata": {
    "colab": {
      "provenance": []
    },
    "kernelspec": {
      "name": "python3",
      "display_name": "Python 3"
    },
    "language_info": {
      "name": "python"
    }
  },
  "cells": [
    {
      "cell_type": "markdown",
      "source": [
        "Vamos aprender:\n",
        "\n",
        "- Como usar o Google Colab\n",
        "- Tipos de dados no Python\n",
        "- Estruturas de dados: listas, dicionários, tuplas, sets e strings\n",
        "- Operações estatísticas básicas com a biblioteca `statistics`"
      ],
      "metadata": {
        "id": "ZTJP5WoBAG7r"
      }
    },
    {
      "cell_type": "markdown",
      "source": [
        "## 📌 Seção 1: O que é o Google Colab?\n",
        "\n",
        "O Google Colab é um ambiente de notebooks baseado na nuvem que permite escrever e executar código Python direto do navegador.\n",
        "\n",
        "Você pode escrever textos explicativos em células de **Markdown** (como esta) e executar códigos em **células de código Python**.\n",
        "\n",
        "https://www.markdownguide.org/basic-syntax/\n",
        "\n",
        "Para rodar uma célula de código, clique nela e pressione `Shift + Enter`.\n"
      ],
      "metadata": {
        "id": "purK2FteAJaY"
      }
    },
    {
      "cell_type": "markdown",
      "source": [
        "## 🧪 Seção 2: Fazendo contas no Colab\n",
        "Você pode usar o Google Colab como uma calculadora. Vamos ver alguns exemplos simples.\n"
      ],
      "metadata": {
        "id": "hZDY_vwCALfO"
      }
    },
    {
      "cell_type": "code",
      "source": [
        "# Operações básicas\n",
        "2 + 3\n",
        "\n"
      ],
      "metadata": {
        "id": "4mEfmokIAOJn",
        "colab": {
          "base_uri": "https://localhost:8080/"
        },
        "outputId": "8b151411-79b9-43d9-e480-fb385b704c1b"
      },
      "execution_count": null,
      "outputs": [
        {
          "output_type": "execute_result",
          "data": {
            "text/plain": [
              "5"
            ]
          },
          "metadata": {},
          "execution_count": 1
        }
      ]
    },
    {
      "cell_type": "code",
      "source": [
        "10 * 5\n",
        "\n"
      ],
      "metadata": {
        "id": "gPHaCSe7OyIg",
        "colab": {
          "base_uri": "https://localhost:8080/"
        },
        "outputId": "2ae0d58c-fd00-48fa-a7e6-275adf606b1c"
      },
      "execution_count": null,
      "outputs": [
        {
          "output_type": "execute_result",
          "data": {
            "text/plain": [
              "50"
            ]
          },
          "metadata": {},
          "execution_count": 2
        }
      ]
    },
    {
      "cell_type": "code",
      "source": [
        "(20 - 5) / 3"
      ],
      "metadata": {
        "id": "IwuXkJC1O09W",
        "colab": {
          "base_uri": "https://localhost:8080/"
        },
        "outputId": "70e6421f-08a3-4548-99d0-0c053e80f7e1"
      },
      "execution_count": null,
      "outputs": [
        {
          "output_type": "execute_result",
          "data": {
            "text/plain": [
              "5.0"
            ]
          },
          "metadata": {},
          "execution_count": 3
        }
      ]
    },
    {
      "cell_type": "code",
      "source": [
        "print(2 + 3)\n",
        "print(10 * 5)\n",
        "print((20 - 5) / 3)"
      ],
      "metadata": {
        "id": "k5XUf_Q1PHdY",
        "colab": {
          "base_uri": "https://localhost:8080/"
        },
        "outputId": "ce2eb70f-3d20-4dd1-c812-b8744ae9e60a"
      },
      "execution_count": null,
      "outputs": [
        {
          "output_type": "stream",
          "name": "stdout",
          "text": [
            "5\n",
            "50\n",
            "5.0\n"
          ]
        }
      ]
    },
    {
      "cell_type": "markdown",
      "source": [
        "## 🧠 Seção 3: Tipos de Dados em Python\n",
        "\n",
        "Python possui vários tipos de dados nativos. Os mais comuns são:\n",
        "- int (inteiro)\n",
        "- float (decimal)\n",
        "- str (texto)\n",
        "- bool (booleano: True ou False)\n",
        "\n",
        "Vamos testar:\n"
      ],
      "metadata": {
        "id": "Mr_ZND4BASft"
      }
    },
    {
      "cell_type": "code",
      "source": [
        "idade = 25         # inteiro\n",
        "altura = 1.72      # float\n",
        "nome = \"Mariana\"   # string\n",
        "maior_idade = True # booleano\n",
        "idade = 28\n",
        "\n",
        "print(type(idade))\n",
        "print(type(altura))\n",
        "print(type(nome))\n",
        "print(type(maior_idade))\n"
      ],
      "metadata": {
        "id": "l8LsLtDyAVKz",
        "colab": {
          "base_uri": "https://localhost:8080/"
        },
        "outputId": "4e0da293-5508-444c-fa0f-4e01020ce41f"
      },
      "execution_count": null,
      "outputs": [
        {
          "output_type": "stream",
          "name": "stdout",
          "text": [
            "<class 'float'>\n",
            "<class 'float'>\n",
            "<class 'str'>\n",
            "<class 'bool'>\n"
          ]
        }
      ]
    },
    {
      "cell_type": "code",
      "source": [
        "idade = 25\n",
        "print(idade)"
      ],
      "metadata": {
        "id": "_elIKrS-Pu1b"
      },
      "execution_count": null,
      "outputs": []
    },
    {
      "cell_type": "markdown",
      "source": [
        "## 🧱 Seção 4: Estruturas de Dados em Python\n",
        "\n",
        "As estruturas de dados armazenam múltiplos valores. As principais são:\n",
        "- Listas (`list`)\n",
        "- Dicionários (`dict`)\n",
        "- Tuplas (`tuple`)\n",
        "- Conjuntos (`set`)\n",
        "\n"
      ],
      "metadata": {
        "id": "--tnMdT2AXGK"
      }
    },
    {
      "cell_type": "markdown",
      "source": [
        "### 🔢 Lista (list)\n",
        "Uma lista guarda vários valores em uma ordem definida.\n"
      ],
      "metadata": {
        "id": "9649YoBgAa1C"
      }
    },
    {
      "cell_type": "code",
      "source": [
        "idades = [22, 30, 25, 40]\n",
        "nomes = ['Mari', 'Ricardo', 'Yasmim', 'Lucas']\n",
        "\n",
        "nomes.append('Luiz')\n",
        "nomes.pop()\n",
        "\n",
        "print(nomes)"
      ],
      "metadata": {
        "id": "QSq89YRmAYsL",
        "colab": {
          "base_uri": "https://localhost:8080/"
        },
        "outputId": "a68e830b-849a-4d93-e134-1f3d2f951659"
      },
      "execution_count": null,
      "outputs": [
        {
          "output_type": "stream",
          "name": "stdout",
          "text": [
            "['Mari', 'Ricardo', 'Yasmim', 'Lucas']\n"
          ]
        }
      ]
    },
    {
      "cell_type": "markdown",
      "source": [
        "### 📒 Dicionário (dict)\n",
        "Dicionários armazenam pares de chave e valor.\n"
      ],
      "metadata": {
        "id": "Wf0nhHqZAcpc"
      }
    },
    {
      "cell_type": "code",
      "source": [
        "aluno = {\n",
        "    \"nome\": \"Ana\",\n",
        "    \"idade\": 22,\n",
        "    \"nota\": 8.5\n",
        "}\n",
        "print(aluno[\"idade\"])\n",
        "\n",
        "alunos = [\n",
        "    {\n",
        "        \"nome\": \"Ana\",\n",
        "        \"idade\": 22,\n",
        "        \"nota\": 8.5\n",
        "    },\n",
        "    {\n",
        "        \"nome\": \"Ewerton\",\n",
        "        \"idade\": 22,\n",
        "        \"nota\": 8.5\n",
        "    }\n",
        "]\n",
        "\n",
        "print(alunos['nome'])"
      ],
      "metadata": {
        "id": "xQfQAbDTAd4j",
        "colab": {
          "base_uri": "https://localhost:8080/",
          "height": 197
        },
        "outputId": "7e06bdfa-34ae-478f-b1e3-fa3357209202"
      },
      "execution_count": null,
      "outputs": [
        {
          "output_type": "stream",
          "name": "stdout",
          "text": [
            "22\n"
          ]
        },
        {
          "output_type": "error",
          "ename": "TypeError",
          "evalue": "list indices must be integers or slices, not str",
          "traceback": [
            "\u001b[0;31m---------------------------------------------------------------------------\u001b[0m",
            "\u001b[0;31mTypeError\u001b[0m                                 Traceback (most recent call last)",
            "\u001b[0;32m/tmp/ipython-input-4214644018.py\u001b[0m in \u001b[0;36m<cell line: 0>\u001b[0;34m()\u001b[0m\n\u001b[1;32m     19\u001b[0m ]\n\u001b[1;32m     20\u001b[0m \u001b[0;34m\u001b[0m\u001b[0m\n\u001b[0;32m---> 21\u001b[0;31m \u001b[0mprint\u001b[0m\u001b[0;34m(\u001b[0m\u001b[0malunos\u001b[0m\u001b[0;34m[\u001b[0m\u001b[0;34m'nome'\u001b[0m\u001b[0;34m]\u001b[0m\u001b[0;34m)\u001b[0m\u001b[0;34m\u001b[0m\u001b[0;34m\u001b[0m\u001b[0m\n\u001b[0m",
            "\u001b[0;31mTypeError\u001b[0m: list indices must be integers or slices, not str"
          ]
        }
      ]
    },
    {
      "cell_type": "markdown",
      "source": [
        "### 🔗 Tupla (tuple)\n",
        "Tuplas são parecidas com listas, mas imutáveis.\n"
      ],
      "metadata": {
        "id": "wE40QTFuAftJ"
      }
    },
    {
      "cell_type": "code",
      "source": [
        "coordenadas = (10.5, 20.8)\n",
        "print(coordenadas[1])\n"
      ],
      "metadata": {
        "id": "S65MWPfWAiOi",
        "colab": {
          "base_uri": "https://localhost:8080/"
        },
        "outputId": "32e3f1e7-a6d1-45a2-d839-9f7ed9e65b58"
      },
      "execution_count": null,
      "outputs": [
        {
          "output_type": "stream",
          "name": "stdout",
          "text": [
            "20.8\n"
          ]
        }
      ]
    },
    {
      "cell_type": "markdown",
      "source": [
        "### 🧺 Conjunto (set)\n",
        "Conjuntos não possuem ordem e eliminam valores duplicados automaticamente.\n"
      ],
      "metadata": {
        "id": "LlZp2-3UAj4D"
      }
    },
    {
      "cell_type": "code",
      "source": [
        "frutas = {\"maçã\", \"banana\", \"maçã\", \"uva\"}\n",
        "print(frutas)  # Sem repetição\n",
        "frutas_b = {\"maçã\", \"pêra\"}\n",
        "\n",
        "diff_frutas = frutas - frutas_b\n",
        "print(diff_frutas)\n",
        "\n",
        "text = '2'\n",
        "type(int(text))\n"
      ],
      "metadata": {
        "id": "6ZkcmwdWAlYF",
        "colab": {
          "base_uri": "https://localhost:8080/"
        },
        "outputId": "f96422c4-d4cf-4804-c8c7-2443fdc6f19d"
      },
      "execution_count": null,
      "outputs": [
        {
          "output_type": "stream",
          "name": "stdout",
          "text": [
            "{'maçã', 'uva', 'banana'}\n",
            "{'uva', 'banana'}\n"
          ]
        },
        {
          "output_type": "execute_result",
          "data": {
            "text/plain": [
              "int"
            ]
          },
          "metadata": {},
          "execution_count": 22
        }
      ]
    },
    {
      "cell_type": "markdown",
      "source": [
        "## 📦 Seção 5: Usando Bibliotecas no Python - O que é `import`?\n",
        "\n",
        "O Python tem milhares de bibliotecas prontas para uso. Para utilizar uma biblioteca, usamos o comando `import`.\n",
        "\n",
        "A biblioteca `statistics` é usada para fazer cálculos estatísticos, como média, mediana, moda etc.\n",
        "\n",
        "Vamos importar e usar:\n"
      ],
      "metadata": {
        "id": "CjyJfUeqAoAe"
      }
    },
    {
      "cell_type": "code",
      "source": [
        "import statistics as stat # Importa a biblioteca de estatística\n",
        "\n",
        "notas = [7.5, 8.0, 6.0, 9.5, 8.0]\n",
        "\n",
        "print(\"Média:\", stat.mean(notas))\n",
        "print(\"Mediana:\", stat.median(notas))\n",
        "print(\"Moda:\", stat.mode(notas))\n",
        "print(\"Amplitude:\", max(notas) - min(notas))\n",
        "print(\"Variância:\", stat.variance(notas))\n",
        "print(\"Desvio padrão:\", stat.stdev(notas))\n"
      ],
      "metadata": {
        "id": "mXtAMabiArpl",
        "colab": {
          "base_uri": "https://localhost:8080/"
        },
        "outputId": "01fcb056-6d0c-439b-ee32-55cb73cfef7c"
      },
      "execution_count": null,
      "outputs": [
        {
          "output_type": "stream",
          "name": "stdout",
          "text": [
            "Média: 7.8\n",
            "Mediana: 8.0\n",
            "Moda: 8.0\n",
            "Amplitude: 3.5\n",
            "Variância: 1.575\n",
            "Desvio padrão: 1.2549900398011133\n"
          ]
        }
      ]
    }
  ]
}