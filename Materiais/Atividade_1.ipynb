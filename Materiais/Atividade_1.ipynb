{
  "nbformat": 4,
  "nbformat_minor": 0,
  "metadata": {
    "colab": {
      "provenance": []
    },
    "kernelspec": {
      "name": "python3",
      "display_name": "Python 3"
    },
    "language_info": {
      "name": "python"
    }
  },
  "cells": [
    {
      "cell_type": "markdown",
      "source": [
        "# Atividades de Fixação – Google Colab, Python e biblioteca `statistics`\n",
        "\n",
        "---\n",
        "\n",
        "## Atividade 1 – Criando e analisando dados fictícios\n",
        "\n",
        "**Dados:**  \n",
        "```python\n",
        "salarios = [2500, 2700, 3200, 3100, 2800, 3000, 2700, 3100, 2900]\n",
        "```\n",
        "\n",
        "### Tarefas:\n",
        "- Calcule média, mediana e moda dos salários.\n",
        "\n",
        "- Calcule amplitude, variância e desvio padrão.\n",
        "\n",
        "- Dê um breve comentário sobre o que esses valores revelam sobre a distribuição dos salários.\n"
      ],
      "metadata": {
        "id": "duIxMjQKBXL1"
      }
    },
    {
      "cell_type": "markdown",
      "source": [
        "## Atividade 2 – Manipulando listas e dicionários\n",
        "\n",
        "**Dados:**  \n",
        "```python\n",
        "idades = [19, 21, 22, 20, 22, 23, 21, 19, 20]\n",
        "```\n",
        "\n",
        "### Tarefas:\n",
        "- Calcule média, mediana, moda, amplitude, variância e desvio padrão.\n",
        "\n",
        "- Crie um dicionário para armazenar nome, idade e nota de 3 alunos.\n",
        "\n",
        "- Imprima o nome do aluno com a maior nota."
      ],
      "metadata": {
        "id": "fPSOldK0B8Af"
      }
    },
    {
      "cell_type": "markdown",
      "source": [
        "## Atividade 3 – Estatística com dados de temperaturas\n",
        "\n",
        "**Dados:**  \n",
        "```python\n",
        "temperaturas = [22.5, 23.0, 21.0, 22.0, 23.5, 24.0, 22.5, 23.0, 21.5]\n",
        "```\n",
        "\n",
        "### Tarefas:\n",
        "- Calcule a média, mediana, moda, amplitude, variância e desvio padrão das temperaturas.\n",
        "\n",
        "- Explique o que essas medidas indicam sobre as temperaturas registradas."
      ],
      "metadata": {
        "id": "x9WOpEoYCS9q"
      }
    }
  ]
}